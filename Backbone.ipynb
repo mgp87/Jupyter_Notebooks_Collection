{
  "nbformat": 4,
  "nbformat_minor": 0,
  "metadata": {
    "colab": {
      "provenance": [],
      "include_colab_link": true
    },
    "kernelspec": {
      "name": "python3",
      "display_name": "Python 3"
    },
    "language_info": {
      "name": "python"
    },
    "widgets": {
      "application/vnd.jupyter.widget-state+json": {
        "1cf5979ee0e542ad8db394661125010a": {
          "model_module": "@jupyter-widgets/controls",
          "model_name": "HBoxModel",
          "model_module_version": "1.5.0",
          "state": {
            "_dom_classes": [],
            "_model_module": "@jupyter-widgets/controls",
            "_model_module_version": "1.5.0",
            "_model_name": "HBoxModel",
            "_view_count": null,
            "_view_module": "@jupyter-widgets/controls",
            "_view_module_version": "1.5.0",
            "_view_name": "HBoxView",
            "box_style": "",
            "children": [
              "IPY_MODEL_163389856e40491b8a90d3130b97ff4f",
              "IPY_MODEL_faf82cbd816640b3a98f8f7fc35bc02b",
              "IPY_MODEL_78b9089437604fae9924a46b705aa72a"
            ],
            "layout": "IPY_MODEL_345a8a6b54e54d689edf38d9d6473912"
          }
        },
        "163389856e40491b8a90d3130b97ff4f": {
          "model_module": "@jupyter-widgets/controls",
          "model_name": "HTMLModel",
          "model_module_version": "1.5.0",
          "state": {
            "_dom_classes": [],
            "_model_module": "@jupyter-widgets/controls",
            "_model_module_version": "1.5.0",
            "_model_name": "HTMLModel",
            "_view_count": null,
            "_view_module": "@jupyter-widgets/controls",
            "_view_module_version": "1.5.0",
            "_view_name": "HTMLView",
            "description": "",
            "description_tooltip": null,
            "layout": "IPY_MODEL_f6d168f708ab486697d8153420e63297",
            "placeholder": "​",
            "style": "IPY_MODEL_d10ed00d5e444f33a3fa2109dd88e837",
            "value": "preprocessor_config.json: 100%"
          }
        },
        "faf82cbd816640b3a98f8f7fc35bc02b": {
          "model_module": "@jupyter-widgets/controls",
          "model_name": "FloatProgressModel",
          "model_module_version": "1.5.0",
          "state": {
            "_dom_classes": [],
            "_model_module": "@jupyter-widgets/controls",
            "_model_module_version": "1.5.0",
            "_model_name": "FloatProgressModel",
            "_view_count": null,
            "_view_module": "@jupyter-widgets/controls",
            "_view_module_version": "1.5.0",
            "_view_name": "ProgressView",
            "bar_style": "success",
            "description": "",
            "description_tooltip": null,
            "layout": "IPY_MODEL_caa34c7e308f489d80a5a874304d9931",
            "max": 255,
            "min": 0,
            "orientation": "horizontal",
            "style": "IPY_MODEL_f02256de614548b4b54512164ca9c984",
            "value": 255
          }
        },
        "78b9089437604fae9924a46b705aa72a": {
          "model_module": "@jupyter-widgets/controls",
          "model_name": "HTMLModel",
          "model_module_version": "1.5.0",
          "state": {
            "_dom_classes": [],
            "_model_module": "@jupyter-widgets/controls",
            "_model_module_version": "1.5.0",
            "_model_name": "HTMLModel",
            "_view_count": null,
            "_view_module": "@jupyter-widgets/controls",
            "_view_module_version": "1.5.0",
            "_view_name": "HTMLView",
            "description": "",
            "description_tooltip": null,
            "layout": "IPY_MODEL_d1153645c0eb4d5883c0f50ed1ab2504",
            "placeholder": "​",
            "style": "IPY_MODEL_d5a206d5733647b39d81195269a6de66",
            "value": " 255/255 [00:00&lt;00:00, 4.26kB/s]"
          }
        },
        "345a8a6b54e54d689edf38d9d6473912": {
          "model_module": "@jupyter-widgets/base",
          "model_name": "LayoutModel",
          "model_module_version": "1.2.0",
          "state": {
            "_model_module": "@jupyter-widgets/base",
            "_model_module_version": "1.2.0",
            "_model_name": "LayoutModel",
            "_view_count": null,
            "_view_module": "@jupyter-widgets/base",
            "_view_module_version": "1.2.0",
            "_view_name": "LayoutView",
            "align_content": null,
            "align_items": null,
            "align_self": null,
            "border": null,
            "bottom": null,
            "display": null,
            "flex": null,
            "flex_flow": null,
            "grid_area": null,
            "grid_auto_columns": null,
            "grid_auto_flow": null,
            "grid_auto_rows": null,
            "grid_column": null,
            "grid_gap": null,
            "grid_row": null,
            "grid_template_areas": null,
            "grid_template_columns": null,
            "grid_template_rows": null,
            "height": null,
            "justify_content": null,
            "justify_items": null,
            "left": null,
            "margin": null,
            "max_height": null,
            "max_width": null,
            "min_height": null,
            "min_width": null,
            "object_fit": null,
            "object_position": null,
            "order": null,
            "overflow": null,
            "overflow_x": null,
            "overflow_y": null,
            "padding": null,
            "right": null,
            "top": null,
            "visibility": null,
            "width": null
          }
        },
        "f6d168f708ab486697d8153420e63297": {
          "model_module": "@jupyter-widgets/base",
          "model_name": "LayoutModel",
          "model_module_version": "1.2.0",
          "state": {
            "_model_module": "@jupyter-widgets/base",
            "_model_module_version": "1.2.0",
            "_model_name": "LayoutModel",
            "_view_count": null,
            "_view_module": "@jupyter-widgets/base",
            "_view_module_version": "1.2.0",
            "_view_name": "LayoutView",
            "align_content": null,
            "align_items": null,
            "align_self": null,
            "border": null,
            "bottom": null,
            "display": null,
            "flex": null,
            "flex_flow": null,
            "grid_area": null,
            "grid_auto_columns": null,
            "grid_auto_flow": null,
            "grid_auto_rows": null,
            "grid_column": null,
            "grid_gap": null,
            "grid_row": null,
            "grid_template_areas": null,
            "grid_template_columns": null,
            "grid_template_rows": null,
            "height": null,
            "justify_content": null,
            "justify_items": null,
            "left": null,
            "margin": null,
            "max_height": null,
            "max_width": null,
            "min_height": null,
            "min_width": null,
            "object_fit": null,
            "object_position": null,
            "order": null,
            "overflow": null,
            "overflow_x": null,
            "overflow_y": null,
            "padding": null,
            "right": null,
            "top": null,
            "visibility": null,
            "width": null
          }
        },
        "d10ed00d5e444f33a3fa2109dd88e837": {
          "model_module": "@jupyter-widgets/controls",
          "model_name": "DescriptionStyleModel",
          "model_module_version": "1.5.0",
          "state": {
            "_model_module": "@jupyter-widgets/controls",
            "_model_module_version": "1.5.0",
            "_model_name": "DescriptionStyleModel",
            "_view_count": null,
            "_view_module": "@jupyter-widgets/base",
            "_view_module_version": "1.2.0",
            "_view_name": "StyleView",
            "description_width": ""
          }
        },
        "caa34c7e308f489d80a5a874304d9931": {
          "model_module": "@jupyter-widgets/base",
          "model_name": "LayoutModel",
          "model_module_version": "1.2.0",
          "state": {
            "_model_module": "@jupyter-widgets/base",
            "_model_module_version": "1.2.0",
            "_model_name": "LayoutModel",
            "_view_count": null,
            "_view_module": "@jupyter-widgets/base",
            "_view_module_version": "1.2.0",
            "_view_name": "LayoutView",
            "align_content": null,
            "align_items": null,
            "align_self": null,
            "border": null,
            "bottom": null,
            "display": null,
            "flex": null,
            "flex_flow": null,
            "grid_area": null,
            "grid_auto_columns": null,
            "grid_auto_flow": null,
            "grid_auto_rows": null,
            "grid_column": null,
            "grid_gap": null,
            "grid_row": null,
            "grid_template_areas": null,
            "grid_template_columns": null,
            "grid_template_rows": null,
            "height": null,
            "justify_content": null,
            "justify_items": null,
            "left": null,
            "margin": null,
            "max_height": null,
            "max_width": null,
            "min_height": null,
            "min_width": null,
            "object_fit": null,
            "object_position": null,
            "order": null,
            "overflow": null,
            "overflow_x": null,
            "overflow_y": null,
            "padding": null,
            "right": null,
            "top": null,
            "visibility": null,
            "width": null
          }
        },
        "f02256de614548b4b54512164ca9c984": {
          "model_module": "@jupyter-widgets/controls",
          "model_name": "ProgressStyleModel",
          "model_module_version": "1.5.0",
          "state": {
            "_model_module": "@jupyter-widgets/controls",
            "_model_module_version": "1.5.0",
            "_model_name": "ProgressStyleModel",
            "_view_count": null,
            "_view_module": "@jupyter-widgets/base",
            "_view_module_version": "1.2.0",
            "_view_name": "StyleView",
            "bar_color": null,
            "description_width": ""
          }
        },
        "d1153645c0eb4d5883c0f50ed1ab2504": {
          "model_module": "@jupyter-widgets/base",
          "model_name": "LayoutModel",
          "model_module_version": "1.2.0",
          "state": {
            "_model_module": "@jupyter-widgets/base",
            "_model_module_version": "1.2.0",
            "_model_name": "LayoutModel",
            "_view_count": null,
            "_view_module": "@jupyter-widgets/base",
            "_view_module_version": "1.2.0",
            "_view_name": "LayoutView",
            "align_content": null,
            "align_items": null,
            "align_self": null,
            "border": null,
            "bottom": null,
            "display": null,
            "flex": null,
            "flex_flow": null,
            "grid_area": null,
            "grid_auto_columns": null,
            "grid_auto_flow": null,
            "grid_auto_rows": null,
            "grid_column": null,
            "grid_gap": null,
            "grid_row": null,
            "grid_template_areas": null,
            "grid_template_columns": null,
            "grid_template_rows": null,
            "height": null,
            "justify_content": null,
            "justify_items": null,
            "left": null,
            "margin": null,
            "max_height": null,
            "max_width": null,
            "min_height": null,
            "min_width": null,
            "object_fit": null,
            "object_position": null,
            "order": null,
            "overflow": null,
            "overflow_x": null,
            "overflow_y": null,
            "padding": null,
            "right": null,
            "top": null,
            "visibility": null,
            "width": null
          }
        },
        "d5a206d5733647b39d81195269a6de66": {
          "model_module": "@jupyter-widgets/controls",
          "model_name": "DescriptionStyleModel",
          "model_module_version": "1.5.0",
          "state": {
            "_model_module": "@jupyter-widgets/controls",
            "_model_module_version": "1.5.0",
            "_model_name": "DescriptionStyleModel",
            "_view_count": null,
            "_view_module": "@jupyter-widgets/base",
            "_view_module_version": "1.2.0",
            "_view_name": "StyleView",
            "description_width": ""
          }
        },
        "ad38b5512d2c40e7a50029132e3516d3": {
          "model_module": "@jupyter-widgets/controls",
          "model_name": "HBoxModel",
          "model_module_version": "1.5.0",
          "state": {
            "_dom_classes": [],
            "_model_module": "@jupyter-widgets/controls",
            "_model_module_version": "1.5.0",
            "_model_name": "HBoxModel",
            "_view_count": null,
            "_view_module": "@jupyter-widgets/controls",
            "_view_module_version": "1.5.0",
            "_view_name": "HBoxView",
            "box_style": "",
            "children": [
              "IPY_MODEL_ebe2294867b64ce1ab4a8e12df954bab",
              "IPY_MODEL_c0a7798c00e042e883b002ec182c195b",
              "IPY_MODEL_d8ea88a8945e4580b226f1165d7b9314"
            ],
            "layout": "IPY_MODEL_e9f6d20e6ba7486dac0a775bdb2d202f"
          }
        },
        "ebe2294867b64ce1ab4a8e12df954bab": {
          "model_module": "@jupyter-widgets/controls",
          "model_name": "HTMLModel",
          "model_module_version": "1.5.0",
          "state": {
            "_dom_classes": [],
            "_model_module": "@jupyter-widgets/controls",
            "_model_module_version": "1.5.0",
            "_model_name": "HTMLModel",
            "_view_count": null,
            "_view_module": "@jupyter-widgets/controls",
            "_view_module_version": "1.5.0",
            "_view_name": "HTMLView",
            "description": "",
            "description_tooltip": null,
            "layout": "IPY_MODEL_c3b5bd73ceb747ee90cdd2be176622f2",
            "placeholder": "​",
            "style": "IPY_MODEL_00ccc5cd20ba431985e27a26fd2f4674",
            "value": "config.json: 100%"
          }
        },
        "c0a7798c00e042e883b002ec182c195b": {
          "model_module": "@jupyter-widgets/controls",
          "model_name": "FloatProgressModel",
          "model_module_version": "1.5.0",
          "state": {
            "_dom_classes": [],
            "_model_module": "@jupyter-widgets/controls",
            "_model_module_version": "1.5.0",
            "_model_name": "FloatProgressModel",
            "_view_count": null,
            "_view_module": "@jupyter-widgets/controls",
            "_view_module_version": "1.5.0",
            "_view_name": "ProgressView",
            "bar_style": "success",
            "description": "",
            "description_tooltip": null,
            "layout": "IPY_MODEL_f2819cd202664efd808a1b619f835189",
            "max": 71813,
            "min": 0,
            "orientation": "horizontal",
            "style": "IPY_MODEL_599bc41ea0374925993b3ebf64648ff2",
            "value": 71813
          }
        },
        "d8ea88a8945e4580b226f1165d7b9314": {
          "model_module": "@jupyter-widgets/controls",
          "model_name": "HTMLModel",
          "model_module_version": "1.5.0",
          "state": {
            "_dom_classes": [],
            "_model_module": "@jupyter-widgets/controls",
            "_model_module_version": "1.5.0",
            "_model_name": "HTMLModel",
            "_view_count": null,
            "_view_module": "@jupyter-widgets/controls",
            "_view_module_version": "1.5.0",
            "_view_name": "HTMLView",
            "description": "",
            "description_tooltip": null,
            "layout": "IPY_MODEL_ce5d39c2ff6e4e2baf563b94f729a837",
            "placeholder": "​",
            "style": "IPY_MODEL_4a28509ac1bd40719030932963606a94",
            "value": " 71.8k/71.8k [00:00&lt;00:00, 1.05MB/s]"
          }
        },
        "e9f6d20e6ba7486dac0a775bdb2d202f": {
          "model_module": "@jupyter-widgets/base",
          "model_name": "LayoutModel",
          "model_module_version": "1.2.0",
          "state": {
            "_model_module": "@jupyter-widgets/base",
            "_model_module_version": "1.2.0",
            "_model_name": "LayoutModel",
            "_view_count": null,
            "_view_module": "@jupyter-widgets/base",
            "_view_module_version": "1.2.0",
            "_view_name": "LayoutView",
            "align_content": null,
            "align_items": null,
            "align_self": null,
            "border": null,
            "bottom": null,
            "display": null,
            "flex": null,
            "flex_flow": null,
            "grid_area": null,
            "grid_auto_columns": null,
            "grid_auto_flow": null,
            "grid_auto_rows": null,
            "grid_column": null,
            "grid_gap": null,
            "grid_row": null,
            "grid_template_areas": null,
            "grid_template_columns": null,
            "grid_template_rows": null,
            "height": null,
            "justify_content": null,
            "justify_items": null,
            "left": null,
            "margin": null,
            "max_height": null,
            "max_width": null,
            "min_height": null,
            "min_width": null,
            "object_fit": null,
            "object_position": null,
            "order": null,
            "overflow": null,
            "overflow_x": null,
            "overflow_y": null,
            "padding": null,
            "right": null,
            "top": null,
            "visibility": null,
            "width": null
          }
        },
        "c3b5bd73ceb747ee90cdd2be176622f2": {
          "model_module": "@jupyter-widgets/base",
          "model_name": "LayoutModel",
          "model_module_version": "1.2.0",
          "state": {
            "_model_module": "@jupyter-widgets/base",
            "_model_module_version": "1.2.0",
            "_model_name": "LayoutModel",
            "_view_count": null,
            "_view_module": "@jupyter-widgets/base",
            "_view_module_version": "1.2.0",
            "_view_name": "LayoutView",
            "align_content": null,
            "align_items": null,
            "align_self": null,
            "border": null,
            "bottom": null,
            "display": null,
            "flex": null,
            "flex_flow": null,
            "grid_area": null,
            "grid_auto_columns": null,
            "grid_auto_flow": null,
            "grid_auto_rows": null,
            "grid_column": null,
            "grid_gap": null,
            "grid_row": null,
            "grid_template_areas": null,
            "grid_template_columns": null,
            "grid_template_rows": null,
            "height": null,
            "justify_content": null,
            "justify_items": null,
            "left": null,
            "margin": null,
            "max_height": null,
            "max_width": null,
            "min_height": null,
            "min_width": null,
            "object_fit": null,
            "object_position": null,
            "order": null,
            "overflow": null,
            "overflow_x": null,
            "overflow_y": null,
            "padding": null,
            "right": null,
            "top": null,
            "visibility": null,
            "width": null
          }
        },
        "00ccc5cd20ba431985e27a26fd2f4674": {
          "model_module": "@jupyter-widgets/controls",
          "model_name": "DescriptionStyleModel",
          "model_module_version": "1.5.0",
          "state": {
            "_model_module": "@jupyter-widgets/controls",
            "_model_module_version": "1.5.0",
            "_model_name": "DescriptionStyleModel",
            "_view_count": null,
            "_view_module": "@jupyter-widgets/base",
            "_view_module_version": "1.2.0",
            "_view_name": "StyleView",
            "description_width": ""
          }
        },
        "f2819cd202664efd808a1b619f835189": {
          "model_module": "@jupyter-widgets/base",
          "model_name": "LayoutModel",
          "model_module_version": "1.2.0",
          "state": {
            "_model_module": "@jupyter-widgets/base",
            "_model_module_version": "1.2.0",
            "_model_name": "LayoutModel",
            "_view_count": null,
            "_view_module": "@jupyter-widgets/base",
            "_view_module_version": "1.2.0",
            "_view_name": "LayoutView",
            "align_content": null,
            "align_items": null,
            "align_self": null,
            "border": null,
            "bottom": null,
            "display": null,
            "flex": null,
            "flex_flow": null,
            "grid_area": null,
            "grid_auto_columns": null,
            "grid_auto_flow": null,
            "grid_auto_rows": null,
            "grid_column": null,
            "grid_gap": null,
            "grid_row": null,
            "grid_template_areas": null,
            "grid_template_columns": null,
            "grid_template_rows": null,
            "height": null,
            "justify_content": null,
            "justify_items": null,
            "left": null,
            "margin": null,
            "max_height": null,
            "max_width": null,
            "min_height": null,
            "min_width": null,
            "object_fit": null,
            "object_position": null,
            "order": null,
            "overflow": null,
            "overflow_x": null,
            "overflow_y": null,
            "padding": null,
            "right": null,
            "top": null,
            "visibility": null,
            "width": null
          }
        },
        "599bc41ea0374925993b3ebf64648ff2": {
          "model_module": "@jupyter-widgets/controls",
          "model_name": "ProgressStyleModel",
          "model_module_version": "1.5.0",
          "state": {
            "_model_module": "@jupyter-widgets/controls",
            "_model_module_version": "1.5.0",
            "_model_name": "ProgressStyleModel",
            "_view_count": null,
            "_view_module": "@jupyter-widgets/base",
            "_view_module_version": "1.2.0",
            "_view_name": "StyleView",
            "bar_color": null,
            "description_width": ""
          }
        },
        "ce5d39c2ff6e4e2baf563b94f729a837": {
          "model_module": "@jupyter-widgets/base",
          "model_name": "LayoutModel",
          "model_module_version": "1.2.0",
          "state": {
            "_model_module": "@jupyter-widgets/base",
            "_model_module_version": "1.2.0",
            "_model_name": "LayoutModel",
            "_view_count": null,
            "_view_module": "@jupyter-widgets/base",
            "_view_module_version": "1.2.0",
            "_view_name": "LayoutView",
            "align_content": null,
            "align_items": null,
            "align_self": null,
            "border": null,
            "bottom": null,
            "display": null,
            "flex": null,
            "flex_flow": null,
            "grid_area": null,
            "grid_auto_columns": null,
            "grid_auto_flow": null,
            "grid_auto_rows": null,
            "grid_column": null,
            "grid_gap": null,
            "grid_row": null,
            "grid_template_areas": null,
            "grid_template_columns": null,
            "grid_template_rows": null,
            "height": null,
            "justify_content": null,
            "justify_items": null,
            "left": null,
            "margin": null,
            "max_height": null,
            "max_width": null,
            "min_height": null,
            "min_width": null,
            "object_fit": null,
            "object_position": null,
            "order": null,
            "overflow": null,
            "overflow_x": null,
            "overflow_y": null,
            "padding": null,
            "right": null,
            "top": null,
            "visibility": null,
            "width": null
          }
        },
        "4a28509ac1bd40719030932963606a94": {
          "model_module": "@jupyter-widgets/controls",
          "model_name": "DescriptionStyleModel",
          "model_module_version": "1.5.0",
          "state": {
            "_model_module": "@jupyter-widgets/controls",
            "_model_module_version": "1.5.0",
            "_model_name": "DescriptionStyleModel",
            "_view_count": null,
            "_view_module": "@jupyter-widgets/base",
            "_view_module_version": "1.2.0",
            "_view_name": "StyleView",
            "description_width": ""
          }
        },
        "d9170a66bce3441a8e988cb1eee8008e": {
          "model_module": "@jupyter-widgets/controls",
          "model_name": "HBoxModel",
          "model_module_version": "1.5.0",
          "state": {
            "_dom_classes": [],
            "_model_module": "@jupyter-widgets/controls",
            "_model_module_version": "1.5.0",
            "_model_name": "HBoxModel",
            "_view_count": null,
            "_view_module": "@jupyter-widgets/controls",
            "_view_module_version": "1.5.0",
            "_view_name": "HBoxView",
            "box_style": "",
            "children": [
              "IPY_MODEL_8f2cb91d169744899082ee444a76ebd9",
              "IPY_MODEL_5344906302164c069d61a59a929485d7",
              "IPY_MODEL_94463df1338f4832a135e1f4cbbef8c2"
            ],
            "layout": "IPY_MODEL_50a890ab39e24064ac2f8fe4456b3f6f"
          }
        },
        "8f2cb91d169744899082ee444a76ebd9": {
          "model_module": "@jupyter-widgets/controls",
          "model_name": "HTMLModel",
          "model_module_version": "1.5.0",
          "state": {
            "_dom_classes": [],
            "_model_module": "@jupyter-widgets/controls",
            "_model_module_version": "1.5.0",
            "_model_name": "HTMLModel",
            "_view_count": null,
            "_view_module": "@jupyter-widgets/controls",
            "_view_module_version": "1.5.0",
            "_view_name": "HTMLView",
            "description": "",
            "description_tooltip": null,
            "layout": "IPY_MODEL_d69c2c07af61484fbe01278090ca9d2d",
            "placeholder": "​",
            "style": "IPY_MODEL_f2909166f4ad46328593285e613678cd",
            "value": "model.safetensors: 100%"
          }
        },
        "5344906302164c069d61a59a929485d7": {
          "model_module": "@jupyter-widgets/controls",
          "model_name": "FloatProgressModel",
          "model_module_version": "1.5.0",
          "state": {
            "_dom_classes": [],
            "_model_module": "@jupyter-widgets/controls",
            "_model_module_version": "1.5.0",
            "_model_name": "FloatProgressModel",
            "_view_count": null,
            "_view_module": "@jupyter-widgets/controls",
            "_view_module_version": "1.5.0",
            "_view_name": "ProgressView",
            "bar_style": "success",
            "description": "",
            "description_tooltip": null,
            "layout": "IPY_MODEL_50f7e34449724da5ab12f0921224adec",
            "max": 113412768,
            "min": 0,
            "orientation": "horizontal",
            "style": "IPY_MODEL_8292cb37f3994ab2a3d89eafabe34e7c",
            "value": 113412768
          }
        },
        "94463df1338f4832a135e1f4cbbef8c2": {
          "model_module": "@jupyter-widgets/controls",
          "model_name": "HTMLModel",
          "model_module_version": "1.5.0",
          "state": {
            "_dom_classes": [],
            "_model_module": "@jupyter-widgets/controls",
            "_model_module_version": "1.5.0",
            "_model_name": "HTMLModel",
            "_view_count": null,
            "_view_module": "@jupyter-widgets/controls",
            "_view_module_version": "1.5.0",
            "_view_name": "HTMLView",
            "description": "",
            "description_tooltip": null,
            "layout": "IPY_MODEL_f90ab3c4f14c4773826dbb150602dd7e",
            "placeholder": "​",
            "style": "IPY_MODEL_f3f0eba5f7914fbd90553029260076d4",
            "value": " 113M/113M [00:01&lt;00:00, 88.9MB/s]"
          }
        },
        "50a890ab39e24064ac2f8fe4456b3f6f": {
          "model_module": "@jupyter-widgets/base",
          "model_name": "LayoutModel",
          "model_module_version": "1.2.0",
          "state": {
            "_model_module": "@jupyter-widgets/base",
            "_model_module_version": "1.2.0",
            "_model_name": "LayoutModel",
            "_view_count": null,
            "_view_module": "@jupyter-widgets/base",
            "_view_module_version": "1.2.0",
            "_view_name": "LayoutView",
            "align_content": null,
            "align_items": null,
            "align_self": null,
            "border": null,
            "bottom": null,
            "display": null,
            "flex": null,
            "flex_flow": null,
            "grid_area": null,
            "grid_auto_columns": null,
            "grid_auto_flow": null,
            "grid_auto_rows": null,
            "grid_column": null,
            "grid_gap": null,
            "grid_row": null,
            "grid_template_areas": null,
            "grid_template_columns": null,
            "grid_template_rows": null,
            "height": null,
            "justify_content": null,
            "justify_items": null,
            "left": null,
            "margin": null,
            "max_height": null,
            "max_width": null,
            "min_height": null,
            "min_width": null,
            "object_fit": null,
            "object_position": null,
            "order": null,
            "overflow": null,
            "overflow_x": null,
            "overflow_y": null,
            "padding": null,
            "right": null,
            "top": null,
            "visibility": null,
            "width": null
          }
        },
        "d69c2c07af61484fbe01278090ca9d2d": {
          "model_module": "@jupyter-widgets/base",
          "model_name": "LayoutModel",
          "model_module_version": "1.2.0",
          "state": {
            "_model_module": "@jupyter-widgets/base",
            "_model_module_version": "1.2.0",
            "_model_name": "LayoutModel",
            "_view_count": null,
            "_view_module": "@jupyter-widgets/base",
            "_view_module_version": "1.2.0",
            "_view_name": "LayoutView",
            "align_content": null,
            "align_items": null,
            "align_self": null,
            "border": null,
            "bottom": null,
            "display": null,
            "flex": null,
            "flex_flow": null,
            "grid_area": null,
            "grid_auto_columns": null,
            "grid_auto_flow": null,
            "grid_auto_rows": null,
            "grid_column": null,
            "grid_gap": null,
            "grid_row": null,
            "grid_template_areas": null,
            "grid_template_columns": null,
            "grid_template_rows": null,
            "height": null,
            "justify_content": null,
            "justify_items": null,
            "left": null,
            "margin": null,
            "max_height": null,
            "max_width": null,
            "min_height": null,
            "min_width": null,
            "object_fit": null,
            "object_position": null,
            "order": null,
            "overflow": null,
            "overflow_x": null,
            "overflow_y": null,
            "padding": null,
            "right": null,
            "top": null,
            "visibility": null,
            "width": null
          }
        },
        "f2909166f4ad46328593285e613678cd": {
          "model_module": "@jupyter-widgets/controls",
          "model_name": "DescriptionStyleModel",
          "model_module_version": "1.5.0",
          "state": {
            "_model_module": "@jupyter-widgets/controls",
            "_model_module_version": "1.5.0",
            "_model_name": "DescriptionStyleModel",
            "_view_count": null,
            "_view_module": "@jupyter-widgets/base",
            "_view_module_version": "1.2.0",
            "_view_name": "StyleView",
            "description_width": ""
          }
        },
        "50f7e34449724da5ab12f0921224adec": {
          "model_module": "@jupyter-widgets/base",
          "model_name": "LayoutModel",
          "model_module_version": "1.2.0",
          "state": {
            "_model_module": "@jupyter-widgets/base",
            "_model_module_version": "1.2.0",
            "_model_name": "LayoutModel",
            "_view_count": null,
            "_view_module": "@jupyter-widgets/base",
            "_view_module_version": "1.2.0",
            "_view_name": "LayoutView",
            "align_content": null,
            "align_items": null,
            "align_self": null,
            "border": null,
            "bottom": null,
            "display": null,
            "flex": null,
            "flex_flow": null,
            "grid_area": null,
            "grid_auto_columns": null,
            "grid_auto_flow": null,
            "grid_auto_rows": null,
            "grid_column": null,
            "grid_gap": null,
            "grid_row": null,
            "grid_template_areas": null,
            "grid_template_columns": null,
            "grid_template_rows": null,
            "height": null,
            "justify_content": null,
            "justify_items": null,
            "left": null,
            "margin": null,
            "max_height": null,
            "max_width": null,
            "min_height": null,
            "min_width": null,
            "object_fit": null,
            "object_position": null,
            "order": null,
            "overflow": null,
            "overflow_x": null,
            "overflow_y": null,
            "padding": null,
            "right": null,
            "top": null,
            "visibility": null,
            "width": null
          }
        },
        "8292cb37f3994ab2a3d89eafabe34e7c": {
          "model_module": "@jupyter-widgets/controls",
          "model_name": "ProgressStyleModel",
          "model_module_version": "1.5.0",
          "state": {
            "_model_module": "@jupyter-widgets/controls",
            "_model_module_version": "1.5.0",
            "_model_name": "ProgressStyleModel",
            "_view_count": null,
            "_view_module": "@jupyter-widgets/base",
            "_view_module_version": "1.2.0",
            "_view_name": "StyleView",
            "bar_color": null,
            "description_width": ""
          }
        },
        "f90ab3c4f14c4773826dbb150602dd7e": {
          "model_module": "@jupyter-widgets/base",
          "model_name": "LayoutModel",
          "model_module_version": "1.2.0",
          "state": {
            "_model_module": "@jupyter-widgets/base",
            "_model_module_version": "1.2.0",
            "_model_name": "LayoutModel",
            "_view_count": null,
            "_view_module": "@jupyter-widgets/base",
            "_view_module_version": "1.2.0",
            "_view_name": "LayoutView",
            "align_content": null,
            "align_items": null,
            "align_self": null,
            "border": null,
            "bottom": null,
            "display": null,
            "flex": null,
            "flex_flow": null,
            "grid_area": null,
            "grid_auto_columns": null,
            "grid_auto_flow": null,
            "grid_auto_rows": null,
            "grid_column": null,
            "grid_gap": null,
            "grid_row": null,
            "grid_template_areas": null,
            "grid_template_columns": null,
            "grid_template_rows": null,
            "height": null,
            "justify_content": null,
            "justify_items": null,
            "left": null,
            "margin": null,
            "max_height": null,
            "max_width": null,
            "min_height": null,
            "min_width": null,
            "object_fit": null,
            "object_position": null,
            "order": null,
            "overflow": null,
            "overflow_x": null,
            "overflow_y": null,
            "padding": null,
            "right": null,
            "top": null,
            "visibility": null,
            "width": null
          }
        },
        "f3f0eba5f7914fbd90553029260076d4": {
          "model_module": "@jupyter-widgets/controls",
          "model_name": "DescriptionStyleModel",
          "model_module_version": "1.5.0",
          "state": {
            "_model_module": "@jupyter-widgets/controls",
            "_model_module_version": "1.5.0",
            "_model_name": "DescriptionStyleModel",
            "_view_count": null,
            "_view_module": "@jupyter-widgets/base",
            "_view_module_version": "1.2.0",
            "_view_name": "StyleView",
            "description_width": ""
          }
        },
        "97a56cb4b5eb4c789c9128ef4ba84ff7": {
          "model_module": "@jupyter-widgets/controls",
          "model_name": "HBoxModel",
          "model_module_version": "1.5.0",
          "state": {
            "_dom_classes": [],
            "_model_module": "@jupyter-widgets/controls",
            "_model_module_version": "1.5.0",
            "_model_name": "HBoxModel",
            "_view_count": null,
            "_view_module": "@jupyter-widgets/controls",
            "_view_module_version": "1.5.0",
            "_view_name": "HBoxView",
            "box_style": "",
            "children": [
              "IPY_MODEL_0655fefc37fc431fa7aa9d1755837355",
              "IPY_MODEL_bca39331832b4322bb5cf86df3af5d07",
              "IPY_MODEL_154370600cb54684ab26f82b7b6909d6"
            ],
            "layout": "IPY_MODEL_ce094d706af14af6877f22e4477b4d9e"
          }
        },
        "0655fefc37fc431fa7aa9d1755837355": {
          "model_module": "@jupyter-widgets/controls",
          "model_name": "HTMLModel",
          "model_module_version": "1.5.0",
          "state": {
            "_dom_classes": [],
            "_model_module": "@jupyter-widgets/controls",
            "_model_module_version": "1.5.0",
            "_model_name": "HTMLModel",
            "_view_count": null,
            "_view_module": "@jupyter-widgets/controls",
            "_view_module_version": "1.5.0",
            "_view_name": "HTMLView",
            "description": "",
            "description_tooltip": null,
            "layout": "IPY_MODEL_f63a176b9a0642269fa249d4a1ca2ca0",
            "placeholder": "​",
            "style": "IPY_MODEL_8fdbafca77684356aaf5523af45b860a",
            "value": "config.json: 100%"
          }
        },
        "bca39331832b4322bb5cf86df3af5d07": {
          "model_module": "@jupyter-widgets/controls",
          "model_name": "FloatProgressModel",
          "model_module_version": "1.5.0",
          "state": {
            "_dom_classes": [],
            "_model_module": "@jupyter-widgets/controls",
            "_model_module_version": "1.5.0",
            "_model_name": "FloatProgressModel",
            "_view_count": null,
            "_view_module": "@jupyter-widgets/controls",
            "_view_module_version": "1.5.0",
            "_view_name": "ProgressView",
            "bar_style": "success",
            "description": "",
            "description_tooltip": null,
            "layout": "IPY_MODEL_c18d04c3d4c24dc08699b70802d5c783",
            "max": 69556,
            "min": 0,
            "orientation": "horizontal",
            "style": "IPY_MODEL_6b754cd01b8440d088676bed998516a1",
            "value": 69556
          }
        },
        "154370600cb54684ab26f82b7b6909d6": {
          "model_module": "@jupyter-widgets/controls",
          "model_name": "HTMLModel",
          "model_module_version": "1.5.0",
          "state": {
            "_dom_classes": [],
            "_model_module": "@jupyter-widgets/controls",
            "_model_module_version": "1.5.0",
            "_model_name": "HTMLModel",
            "_view_count": null,
            "_view_module": "@jupyter-widgets/controls",
            "_view_module_version": "1.5.0",
            "_view_name": "HTMLView",
            "description": "",
            "description_tooltip": null,
            "layout": "IPY_MODEL_d3dc6815c38e47629312fe786edcd127",
            "placeholder": "​",
            "style": "IPY_MODEL_e03b5ba074394cf0826f456f701cc4a8",
            "value": " 69.6k/69.6k [00:00&lt;00:00, 1.21MB/s]"
          }
        },
        "ce094d706af14af6877f22e4477b4d9e": {
          "model_module": "@jupyter-widgets/base",
          "model_name": "LayoutModel",
          "model_module_version": "1.2.0",
          "state": {
            "_model_module": "@jupyter-widgets/base",
            "_model_module_version": "1.2.0",
            "_model_name": "LayoutModel",
            "_view_count": null,
            "_view_module": "@jupyter-widgets/base",
            "_view_module_version": "1.2.0",
            "_view_name": "LayoutView",
            "align_content": null,
            "align_items": null,
            "align_self": null,
            "border": null,
            "bottom": null,
            "display": null,
            "flex": null,
            "flex_flow": null,
            "grid_area": null,
            "grid_auto_columns": null,
            "grid_auto_flow": null,
            "grid_auto_rows": null,
            "grid_column": null,
            "grid_gap": null,
            "grid_row": null,
            "grid_template_areas": null,
            "grid_template_columns": null,
            "grid_template_rows": null,
            "height": null,
            "justify_content": null,
            "justify_items": null,
            "left": null,
            "margin": null,
            "max_height": null,
            "max_width": null,
            "min_height": null,
            "min_width": null,
            "object_fit": null,
            "object_position": null,
            "order": null,
            "overflow": null,
            "overflow_x": null,
            "overflow_y": null,
            "padding": null,
            "right": null,
            "top": null,
            "visibility": null,
            "width": null
          }
        },
        "f63a176b9a0642269fa249d4a1ca2ca0": {
          "model_module": "@jupyter-widgets/base",
          "model_name": "LayoutModel",
          "model_module_version": "1.2.0",
          "state": {
            "_model_module": "@jupyter-widgets/base",
            "_model_module_version": "1.2.0",
            "_model_name": "LayoutModel",
            "_view_count": null,
            "_view_module": "@jupyter-widgets/base",
            "_view_module_version": "1.2.0",
            "_view_name": "LayoutView",
            "align_content": null,
            "align_items": null,
            "align_self": null,
            "border": null,
            "bottom": null,
            "display": null,
            "flex": null,
            "flex_flow": null,
            "grid_area": null,
            "grid_auto_columns": null,
            "grid_auto_flow": null,
            "grid_auto_rows": null,
            "grid_column": null,
            "grid_gap": null,
            "grid_row": null,
            "grid_template_areas": null,
            "grid_template_columns": null,
            "grid_template_rows": null,
            "height": null,
            "justify_content": null,
            "justify_items": null,
            "left": null,
            "margin": null,
            "max_height": null,
            "max_width": null,
            "min_height": null,
            "min_width": null,
            "object_fit": null,
            "object_position": null,
            "order": null,
            "overflow": null,
            "overflow_x": null,
            "overflow_y": null,
            "padding": null,
            "right": null,
            "top": null,
            "visibility": null,
            "width": null
          }
        },
        "8fdbafca77684356aaf5523af45b860a": {
          "model_module": "@jupyter-widgets/controls",
          "model_name": "DescriptionStyleModel",
          "model_module_version": "1.5.0",
          "state": {
            "_model_module": "@jupyter-widgets/controls",
            "_model_module_version": "1.5.0",
            "_model_name": "DescriptionStyleModel",
            "_view_count": null,
            "_view_module": "@jupyter-widgets/base",
            "_view_module_version": "1.2.0",
            "_view_name": "StyleView",
            "description_width": ""
          }
        },
        "c18d04c3d4c24dc08699b70802d5c783": {
          "model_module": "@jupyter-widgets/base",
          "model_name": "LayoutModel",
          "model_module_version": "1.2.0",
          "state": {
            "_model_module": "@jupyter-widgets/base",
            "_model_module_version": "1.2.0",
            "_model_name": "LayoutModel",
            "_view_count": null,
            "_view_module": "@jupyter-widgets/base",
            "_view_module_version": "1.2.0",
            "_view_name": "LayoutView",
            "align_content": null,
            "align_items": null,
            "align_self": null,
            "border": null,
            "bottom": null,
            "display": null,
            "flex": null,
            "flex_flow": null,
            "grid_area": null,
            "grid_auto_columns": null,
            "grid_auto_flow": null,
            "grid_auto_rows": null,
            "grid_column": null,
            "grid_gap": null,
            "grid_row": null,
            "grid_template_areas": null,
            "grid_template_columns": null,
            "grid_template_rows": null,
            "height": null,
            "justify_content": null,
            "justify_items": null,
            "left": null,
            "margin": null,
            "max_height": null,
            "max_width": null,
            "min_height": null,
            "min_width": null,
            "object_fit": null,
            "object_position": null,
            "order": null,
            "overflow": null,
            "overflow_x": null,
            "overflow_y": null,
            "padding": null,
            "right": null,
            "top": null,
            "visibility": null,
            "width": null
          }
        },
        "6b754cd01b8440d088676bed998516a1": {
          "model_module": "@jupyter-widgets/controls",
          "model_name": "ProgressStyleModel",
          "model_module_version": "1.5.0",
          "state": {
            "_model_module": "@jupyter-widgets/controls",
            "_model_module_version": "1.5.0",
            "_model_name": "ProgressStyleModel",
            "_view_count": null,
            "_view_module": "@jupyter-widgets/base",
            "_view_module_version": "1.2.0",
            "_view_name": "StyleView",
            "bar_color": null,
            "description_width": ""
          }
        },
        "d3dc6815c38e47629312fe786edcd127": {
          "model_module": "@jupyter-widgets/base",
          "model_name": "LayoutModel",
          "model_module_version": "1.2.0",
          "state": {
            "_model_module": "@jupyter-widgets/base",
            "_model_module_version": "1.2.0",
            "_model_name": "LayoutModel",
            "_view_count": null,
            "_view_module": "@jupyter-widgets/base",
            "_view_module_version": "1.2.0",
            "_view_name": "LayoutView",
            "align_content": null,
            "align_items": null,
            "align_self": null,
            "border": null,
            "bottom": null,
            "display": null,
            "flex": null,
            "flex_flow": null,
            "grid_area": null,
            "grid_auto_columns": null,
            "grid_auto_flow": null,
            "grid_auto_rows": null,
            "grid_column": null,
            "grid_gap": null,
            "grid_row": null,
            "grid_template_areas": null,
            "grid_template_columns": null,
            "grid_template_rows": null,
            "height": null,
            "justify_content": null,
            "justify_items": null,
            "left": null,
            "margin": null,
            "max_height": null,
            "max_width": null,
            "min_height": null,
            "min_width": null,
            "object_fit": null,
            "object_position": null,
            "order": null,
            "overflow": null,
            "overflow_x": null,
            "overflow_y": null,
            "padding": null,
            "right": null,
            "top": null,
            "visibility": null,
            "width": null
          }
        },
        "e03b5ba074394cf0826f456f701cc4a8": {
          "model_module": "@jupyter-widgets/controls",
          "model_name": "DescriptionStyleModel",
          "model_module_version": "1.5.0",
          "state": {
            "_model_module": "@jupyter-widgets/controls",
            "_model_module_version": "1.5.0",
            "_model_name": "DescriptionStyleModel",
            "_view_count": null,
            "_view_module": "@jupyter-widgets/base",
            "_view_module_version": "1.2.0",
            "_view_name": "StyleView",
            "description_width": ""
          }
        }
      }
    }
  },
  "cells": [
    {
      "cell_type": "markdown",
      "metadata": {
        "id": "view-in-github",
        "colab_type": "text"
      },
      "source": [
        "<a href=\"https://colab.research.google.com/github/mgp87/Jupyter_Notebooks_Collection/blob/main/Backbone.ipynb\" target=\"_parent\"><img src=\"https://colab.research.google.com/assets/colab-badge.svg\" alt=\"Open In Colab\"/></a>"
      ]
    },
    {
      "cell_type": "markdown",
      "source": [
        "# 🤗 Backbone API\n",
        "In this notebook you can try the Backbone API and AutoBackbone class.\n",
        "\n",
        "You could use a backbone to get features only, or you could establish a multi-stage computer vision model (backbone, neck, and a head).\n",
        "Backbone API of transformers is very useful for either way. You can now get any feature from any stage of a backbone, or, you can initialize a backbone to be used at a multi-stage vision model (which is otherwise hard to do).\n",
        "\n",
        "![Backbone.png](data:image/png;base64,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)\n",
        "\n",
        " Let's begin. We will first go through how to get features at any stage of the backbone. We can initialize any backbone using `AutoBackbone` class."
      ],
      "metadata": {
        "id": "4r4MyoDmM7PZ"
      }
    },
    {
      "cell_type": "code",
      "execution_count": null,
      "metadata": {
        "colab": {
          "base_uri": "https://localhost:8080/",
          "height": 294,
          "referenced_widgets": [
            "1cf5979ee0e542ad8db394661125010a",
            "163389856e40491b8a90d3130b97ff4f",
            "faf82cbd816640b3a98f8f7fc35bc02b",
            "78b9089437604fae9924a46b705aa72a",
            "345a8a6b54e54d689edf38d9d6473912",
            "f6d168f708ab486697d8153420e63297",
            "d10ed00d5e444f33a3fa2109dd88e837",
            "caa34c7e308f489d80a5a874304d9931",
            "f02256de614548b4b54512164ca9c984",
            "d1153645c0eb4d5883c0f50ed1ab2504",
            "d5a206d5733647b39d81195269a6de66",
            "ad38b5512d2c40e7a50029132e3516d3",
            "ebe2294867b64ce1ab4a8e12df954bab",
            "c0a7798c00e042e883b002ec182c195b",
            "d8ea88a8945e4580b226f1165d7b9314",
            "e9f6d20e6ba7486dac0a775bdb2d202f",
            "c3b5bd73ceb747ee90cdd2be176622f2",
            "00ccc5cd20ba431985e27a26fd2f4674",
            "f2819cd202664efd808a1b619f835189",
            "599bc41ea0374925993b3ebf64648ff2",
            "ce5d39c2ff6e4e2baf563b94f729a837",
            "4a28509ac1bd40719030932963606a94",
            "d9170a66bce3441a8e988cb1eee8008e",
            "8f2cb91d169744899082ee444a76ebd9",
            "5344906302164c069d61a59a929485d7",
            "94463df1338f4832a135e1f4cbbef8c2",
            "50a890ab39e24064ac2f8fe4456b3f6f",
            "d69c2c07af61484fbe01278090ca9d2d",
            "f2909166f4ad46328593285e613678cd",
            "50f7e34449724da5ab12f0921224adec",
            "8292cb37f3994ab2a3d89eafabe34e7c",
            "f90ab3c4f14c4773826dbb150602dd7e",
            "f3f0eba5f7914fbd90553029260076d4"
          ]
        },
        "id": "1JHfqcWEM1I1",
        "outputId": "6bd07e0b-3019-4e7e-a364-5e435956632e"
      },
      "outputs": [
        {
          "output_type": "stream",
          "name": "stderr",
          "text": [
            "/usr/local/lib/python3.10/dist-packages/huggingface_hub/utils/_token.py:88: UserWarning: \n",
            "The secret `HF_TOKEN` does not exist in your Colab secrets.\n",
            "To authenticate with the Hugging Face Hub, create a token in your settings tab (https://huggingface.co/settings/tokens), set it as secret in your Google Colab and restart your session.\n",
            "You will be able to reuse this secret in all of your notebooks.\n",
            "Please note that authentication is recommended but still optional to access public models or datasets.\n",
            "  warnings.warn(\n"
          ]
        },
        {
          "output_type": "display_data",
          "data": {
            "text/plain": [
              "preprocessor_config.json:   0%|          | 0.00/255 [00:00<?, ?B/s]"
            ],
            "application/vnd.jupyter.widget-view+json": {
              "version_major": 2,
              "version_minor": 0,
              "model_id": "1cf5979ee0e542ad8db394661125010a"
            }
          },
          "metadata": {}
        },
        {
          "output_type": "stream",
          "name": "stderr",
          "text": [
            "Could not find image processor class in the image processor config or the model config. Loading based on pattern matching with the model's feature extractor configuration.\n"
          ]
        },
        {
          "output_type": "display_data",
          "data": {
            "text/plain": [
              "config.json:   0%|          | 0.00/71.8k [00:00<?, ?B/s]"
            ],
            "application/vnd.jupyter.widget-view+json": {
              "version_major": 2,
              "version_minor": 0,
              "model_id": "ad38b5512d2c40e7a50029132e3516d3"
            }
          },
          "metadata": {}
        },
        {
          "output_type": "display_data",
          "data": {
            "text/plain": [
              "model.safetensors:   0%|          | 0.00/113M [00:00<?, ?B/s]"
            ],
            "application/vnd.jupyter.widget-view+json": {
              "version_major": 2,
              "version_minor": 0,
              "model_id": "d9170a66bce3441a8e988cb1eee8008e"
            }
          },
          "metadata": {}
        },
        {
          "output_type": "stream",
          "name": "stderr",
          "text": [
            "Some weights of SwinBackbone were not initialized from the model checkpoint at microsoft/swin-tiny-patch4-window7-224 and are newly initialized: ['swin.hidden_states_norms.stage1.weight', 'swin.hidden_states_norms.stem.bias', 'swin.hidden_states_norms.stage2.weight', 'swin.hidden_states_norms.stem.weight', 'swin.hidden_states_norms.stage1.bias', 'swin.hidden_states_norms.stage2.bias']\n",
            "You should probably TRAIN this model on a down-stream task to be able to use it for predictions and inference.\n"
          ]
        }
      ],
      "source": [
        "from transformers import AutoImageProcessor, AutoBackbone\n",
        "import torch\n",
        "\n",
        "# initialize the backbone and the processor\n",
        "processor = AutoImageProcessor.from_pretrained(\"microsoft/swin-tiny-patch4-window7-224\")\n",
        "model = AutoBackbone.from_pretrained(\"microsoft/swin-tiny-patch4-window7-224\", out_indices=(0,1,2))"
      ]
    },
    {
      "cell_type": "code",
      "source": [
        "# get the image\n",
        "from PIL import Image\n",
        "import requests\n",
        "\n",
        "url = \"http://images.cocodataset.org/val2017/000000039769.jpg\"\n",
        "image = Image.open(requests.get(url, stream=True).raw)"
      ],
      "metadata": {
        "id": "cDe31xO6N_NK"
      },
      "execution_count": null,
      "outputs": []
    },
    {
      "cell_type": "markdown",
      "source": [
        "We can now get the extracted features."
      ],
      "metadata": {
        "id": "gsPPoGH7ODR6"
      }
    },
    {
      "cell_type": "code",
      "source": [
        "inputs = processor(image, return_tensors=\"pt\")\n",
        "outputs = model(**inputs)\n",
        "feature_maps = outputs.feature_maps"
      ],
      "metadata": {
        "id": "c_0rVSTJM3uG"
      },
      "execution_count": null,
      "outputs": []
    },
    {
      "cell_type": "markdown",
      "source": [
        "We will now get the features from the model stem (0th stage), first stage, and second stage."
      ],
      "metadata": {
        "id": "STZIYqheOYGE"
      }
    },
    {
      "cell_type": "code",
      "source": [
        "list(feature_maps[0].shape)"
      ],
      "metadata": {
        "colab": {
          "base_uri": "https://localhost:8080/"
        },
        "id": "DRi6yLXcOJml",
        "outputId": "875d32c4-3a4b-4075-8447-17e52456f7c7"
      },
      "execution_count": null,
      "outputs": [
        {
          "output_type": "execute_result",
          "data": {
            "text/plain": [
              "[1, 96, 56, 56]"
            ]
          },
          "metadata": {},
          "execution_count": 4
        }
      ]
    },
    {
      "cell_type": "code",
      "source": [
        "list(feature_maps[1].shape)"
      ],
      "metadata": {
        "colab": {
          "base_uri": "https://localhost:8080/"
        },
        "id": "quowmSbjOdLm",
        "outputId": "864e553e-6d9f-4b0b-d297-9529c65ee36b"
      },
      "execution_count": null,
      "outputs": [
        {
          "output_type": "execute_result",
          "data": {
            "text/plain": [
              "[1, 96, 56, 56]"
            ]
          },
          "metadata": {},
          "execution_count": 5
        }
      ]
    },
    {
      "cell_type": "code",
      "source": [
        "list(feature_maps[2].shape)"
      ],
      "metadata": {
        "colab": {
          "base_uri": "https://localhost:8080/"
        },
        "id": "sLG_1g-vOfKI",
        "outputId": "d22fb433-b212-4af3-9b00-b1a6e72ec935"
      },
      "execution_count": null,
      "outputs": [
        {
          "output_type": "execute_result",
          "data": {
            "text/plain": [
              "[1, 192, 28, 28]"
            ]
          },
          "metadata": {},
          "execution_count": 6
        }
      ]
    },
    {
      "cell_type": "markdown",
      "source": [
        "Super easy, right? Now let's see how we can create a multi-stage model using ResNet backbone, and MaskFormer neck and instance segmentation head."
      ],
      "metadata": {
        "id": "TvF5UOm7OiSP"
      }
    },
    {
      "cell_type": "code",
      "source": [
        "from transformers import MaskFormerConfig, MaskFormerForInstanceSegmentation, ResNetConfig\n",
        "\n",
        "backbone_config = ResNetConfig.from_pretrained(\"microsoft/resnet-50\")\n",
        "config = MaskFormerConfig(backbone_config=backbone_config)\n",
        "model = MaskFormerForInstanceSegmentation(config)"
      ],
      "metadata": {
        "colab": {
          "base_uri": "https://localhost:8080/",
          "height": 49,
          "referenced_widgets": [
            "97a56cb4b5eb4c789c9128ef4ba84ff7",
            "0655fefc37fc431fa7aa9d1755837355",
            "bca39331832b4322bb5cf86df3af5d07",
            "154370600cb54684ab26f82b7b6909d6",
            "ce094d706af14af6877f22e4477b4d9e",
            "f63a176b9a0642269fa249d4a1ca2ca0",
            "8fdbafca77684356aaf5523af45b860a",
            "c18d04c3d4c24dc08699b70802d5c783",
            "6b754cd01b8440d088676bed998516a1",
            "d3dc6815c38e47629312fe786edcd127",
            "e03b5ba074394cf0826f456f701cc4a8"
          ]
        },
        "id": "ge3Cv0BuOhV9",
        "outputId": "49c6de0d-5ebb-4ef2-e198-584a6a1d1b18"
      },
      "execution_count": null,
      "outputs": [
        {
          "output_type": "display_data",
          "data": {
            "text/plain": [
              "config.json:   0%|          | 0.00/69.6k [00:00<?, ?B/s]"
            ],
            "application/vnd.jupyter.widget-view+json": {
              "version_major": 2,
              "version_minor": 0,
              "model_id": "97a56cb4b5eb4c789c9128ef4ba84ff7"
            }
          },
          "metadata": {}
        }
      ]
    },
    {
      "cell_type": "markdown",
      "source": [
        "You can also initialize a backbone with random weights by not passing a model checkpoint."
      ],
      "metadata": {
        "id": "MLR2hYE5Ow9g"
      }
    },
    {
      "cell_type": "code",
      "source": [
        "backbone_config = ResNetConfig()\n",
        "config = MaskFormerConfig(backbone_config=backbone_config)\n",
        "model = MaskFormerForInstanceSegmentation(config)"
      ],
      "metadata": {
        "id": "4Ggo1ACtOwKt"
      },
      "execution_count": null,
      "outputs": []
    },
    {
      "cell_type": "markdown",
      "source": [
        "You can also use a variation of backbones available in `timm`."
      ],
      "metadata": {
        "id": "gv2ey79CPABu"
      }
    },
    {
      "cell_type": "code",
      "source": [
        "!pip install timm"
      ],
      "metadata": {
        "id": "CpajPEAZPOFr"
      },
      "execution_count": null,
      "outputs": []
    },
    {
      "cell_type": "code",
      "source": [
        "from transformers import TimmBackboneConfig, TimmBackbone\n",
        "\n",
        "backbone_config = TimmBackboneConfig(\"resnet50\")\n",
        "model = TimmBackbone(config=backbone_config)"
      ],
      "metadata": {
        "id": "y9uI3NwOO6h6"
      },
      "execution_count": null,
      "outputs": []
    }
  ]
}